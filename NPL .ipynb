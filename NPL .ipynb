{
 "cells": [
  {
   "cell_type": "code",
   "execution_count": 1,
   "metadata": {},
   "outputs": [],
   "source": [
    "import numpy as np\n",
    "import pandas as pd\n",
    "import matplotlib.pyplot as plt\n",
    "from functools import reduce\n",
    "from sklearn.feature_extraction.text import CountVectorizer\n",
    "import operator"
   ]
  },
  {
   "cell_type": "markdown",
   "metadata": {},
   "source": [
    "Sklearn Bayers"
   ]
  },
  {
   "cell_type": "code",
   "execution_count": 202,
   "metadata": {
    "scrolled": true
   },
   "outputs": [
    {
     "name": "stderr",
     "output_type": "stream",
     "text": [
      "F:\\course python\\lib\\site-packages\\ipykernel_launcher.py:1: FutureWarning: read_table is deprecated, use read_csv instead, passing sep='\\t'.\n",
      "  \"\"\"Entry point for launching an IPython kernel.\n"
     ]
    },
    {
     "data": {
      "text/html": [
       "<div>\n",
       "<style scoped>\n",
       "    .dataframe tbody tr th:only-of-type {\n",
       "        vertical-align: middle;\n",
       "    }\n",
       "\n",
       "    .dataframe tbody tr th {\n",
       "        vertical-align: top;\n",
       "    }\n",
       "\n",
       "    .dataframe thead th {\n",
       "        text-align: right;\n",
       "    }\n",
       "</style>\n",
       "<table border=\"1\" class=\"dataframe\">\n",
       "  <thead>\n",
       "    <tr style=\"text-align: right;\">\n",
       "      <th></th>\n",
       "      <th>label</th>\n",
       "      <th>text</th>\n",
       "    </tr>\n",
       "  </thead>\n",
       "  <tbody>\n",
       "    <tr>\n",
       "      <th>0</th>\n",
       "      <td>ham</td>\n",
       "      <td>Go until jurong point, crazy.. Available only ...</td>\n",
       "    </tr>\n",
       "    <tr>\n",
       "      <th>1</th>\n",
       "      <td>ham</td>\n",
       "      <td>Ok lar... Joking wif u oni...</td>\n",
       "    </tr>\n",
       "    <tr>\n",
       "      <th>2</th>\n",
       "      <td>spam</td>\n",
       "      <td>Free entry in 2 a wkly comp to win FA Cup fina...</td>\n",
       "    </tr>\n",
       "    <tr>\n",
       "      <th>3</th>\n",
       "      <td>ham</td>\n",
       "      <td>U dun say so early hor... U c already then say...</td>\n",
       "    </tr>\n",
       "    <tr>\n",
       "      <th>4</th>\n",
       "      <td>ham</td>\n",
       "      <td>Nah I don't think he goes to usf, he lives aro...</td>\n",
       "    </tr>\n",
       "  </tbody>\n",
       "</table>\n",
       "</div>"
      ],
      "text/plain": [
       "  label                                               text\n",
       "0   ham  Go until jurong point, crazy.. Available only ...\n",
       "1   ham                      Ok lar... Joking wif u oni...\n",
       "2  spam  Free entry in 2 a wkly comp to win FA Cup fina...\n",
       "3   ham  U dun say so early hor... U c already then say...\n",
       "4   ham  Nah I don't think he goes to usf, he lives aro..."
      ]
     },
     "execution_count": 202,
     "metadata": {},
     "output_type": "execute_result"
    }
   ],
   "source": [
    "df=pd.read_table(r'C:\\Users\\asd\\Desktop\\SMSSpamCollection.txt',encoding='latin',header=-1,names=['label','text'])\n",
    "df.head()"
   ]
  },
  {
   "cell_type": "code",
   "execution_count": 203,
   "metadata": {},
   "outputs": [
    {
     "name": "stdout",
     "output_type": "stream",
     "text": [
      "  label                                               text  numlabel\n",
      "0   ham  Go until jurong point, crazy.. Available only ...         0\n",
      "1   ham                      Ok lar... Joking wif u oni...         0\n",
      "2  spam  Free entry in 2 a wkly comp to win FA Cup fina...         1\n",
      "3   ham  U dun say so early hor... U c already then say...         0\n",
      "4   ham  Nah I don't think he goes to usf, he lives aro...         0\n"
     ]
    }
   ],
   "source": [
    "df['numlabel']=df['label'].map({'ham':0,'spam':1})\n",
    "print(df.head())"
   ]
  },
  {
   "cell_type": "code",
   "execution_count": 204,
   "metadata": {},
   "outputs": [
    {
     "name": "stdout",
     "output_type": "stream",
     "text": [
      "0    4825\n",
      "1     747\n",
      "Name: numlabel, dtype: int64\n",
      "5572\n"
     ]
    }
   ],
   "source": [
    "#statistic the numbers of each category\n",
    "print(df['numlabel'].value_counts())\n",
    "print(len(df['numlabel']))"
   ]
  },
  {
   "cell_type": "code",
   "execution_count": 234,
   "metadata": {},
   "outputs": [
    {
     "data": {
      "text/plain": [
       "0.13406317300789664"
      ]
     },
     "execution_count": 234,
     "metadata": {},
     "output_type": "execute_result"
    }
   ],
   "source": [
    "747/(4825+747)"
   ]
  },
  {
   "cell_type": "code",
   "execution_count": 205,
   "metadata": {},
   "outputs": [
    {
     "name": "stdout",
     "output_type": "stream",
     "text": [
      "the minimum length is:2\n"
     ]
    }
   ],
   "source": [
    "\n",
    "text_lengths=[len(df.loc[i,'text']) for i in range(len(df))]\n",
    "print('the minimum length is:%d'%(min(text_lengths)))"
   ]
  },
  {
   "cell_type": "code",
   "execution_count": 207,
   "metadata": {},
   "outputs": [
    {
     "data": {
      "image/png": "[encoded data removed]",
      "text/plain": [
       "<Figure size 432x288 with 1 Axes>"
      ]
     },
     "metadata": {
      "needs_background": "light"
     },
     "output_type": "display_data"
    }
   ],
   "source": [
    "plt.hist(text_lengths,100,facecolor='magenta',alpha=0.5) #其中100是指定有多少条条形\n",
    "plt.xlim([0,200])\n",
    "plt.show()"
   ]
  },
  {
   "cell_type": "code",
   "execution_count": 208,
   "metadata": {},
   "outputs": [
    {
     "name": "stdout",
     "output_type": "stream",
     "text": [
      "(5572, 8749)\n"
     ]
    }
   ],
   "source": [
    "#Vectorize text\n",
    "\n",
    "vectorizer=CountVectorizer()\n",
    "x=vectorizer.fit_transform(df.text).toarray()\n",
    "y=df.numlabel\n",
    "print(x.shape)"
   ]
  },
  {
   "cell_type": "code",
   "execution_count": 209,
   "metadata": {},
   "outputs": [],
   "source": [
    "from sklearn.model_selection import train_test_split\n",
    "x_train,x_test,y_train,y_test=train_test_split(x,y,test_size=0.2,random_state=21)\n"
   ]
  },
  {
   "cell_type": "code",
   "execution_count": 210,
   "metadata": {},
   "outputs": [],
   "source": [
    "from sklearn.naive_bayes import MultinomialNB\n",
    "from sklearn.metrics import accuracy_score,roc_auc_score"
   ]
  },
  {
   "cell_type": "code",
   "execution_count": 466,
   "metadata": {},
   "outputs": [
    {
     "name": "stdout",
     "output_type": "stream",
     "text": [
      "sklearn\n",
      "0.9865470852017937 0.9786626344086021\n"
     ]
    }
   ],
   "source": [
    "\n",
    "clf=MultinomialNB(alpha=1.0,fit_prior=True)\n",
    "clf.fit(x_train,y_train)\n",
    "y_pred_1=clf.predict(x_test)\n",
    "\n",
    "\n",
    "print('sklearn')\n",
    "print(accuracy_score(y_test,y_pred_1),roc_auc_score(y_test,y_pred_1))\n"
   ]
  },
  {
   "cell_type": "markdown",
   "metadata": {},
   "source": [
    "Code by Hands "
   ]
  },
  {
   "cell_type": "code",
   "execution_count": 247,
   "metadata": {},
   "outputs": [],
   "source": [
    "Y_train=y_train.tolist()\n",
    "Y_test=y_test.tolist()"
   ]
  },
  {
   "cell_type": "code",
   "execution_count": null,
   "metadata": {},
   "outputs": [],
   "source": []
  },
  {
   "cell_type": "code",
   "execution_count": 422,
   "metadata": {},
   "outputs": [],
   "source": [
    "def trainNB0(x_train,y_train):\n",
    "    numTrainDocs=len(x_train)\n",
    "    numWords=len(x_train[0])\n",
    "    pClass1=sum(y_train)/float(numTrainDocs)\n",
    "    \n",
    "    p0Num=np.zeros(numWords)\n",
    "    p1Num=np.zeros(numWords)\n",
    "    \n",
    "    p0Denom=0.0\n",
    "    \n",
    "    p1Denom=0.0\n",
    "    \n",
    "    \n",
    "    \n",
    "    for i in range(numTrainDocs):\n",
    "        \n",
    "        \n",
    "        \n",
    "        if y_train[i]==1:\n",
    "            \n",
    "            p1Num+=x_train[i]\n",
    "            \n",
    "            p1Denom+=sum(x_train[i])\n",
    "            \n",
    "            \n",
    "            \n",
    "        else:\n",
    "            \n",
    "            p0Num+=x_train[i]\n",
    "            \n",
    "            p0Denom+=sum(x_train[i])\n",
    "            \n",
    "            \n",
    "            \n",
    "   # print(p1Num, p1Denom, p0Num,p0Denom )\n",
    "    \n",
    "    p1Vect=p1Num/p1Denom \n",
    "    \n",
    "    p0Vect=p0Num/p0Denom\n",
    "    \n",
    "   \n",
    "    \n",
    "    return p0Vect,p1Vect,pClass1\n",
    "\n",
    "\n",
    "\n",
    "    \n",
    "        "
   ]
  },
  {
   "cell_type": "code",
   "execution_count": 456,
   "metadata": {},
   "outputs": [],
   "source": [
    "def classify(x_test,x_train,y_train):\n",
    "    \n",
    "    \n",
    "    p0Vect,p1Vect,pClass1=trainNB0(x_train,y_train)\n",
    "    \n",
    "   \n",
    "    predict=[]   \n",
    "        \n",
    "    for i in range(len(x_test)):\n",
    "        \n",
    "               \n",
    "        p1=sum(x_test[i]*p1Vect)+np.log(pClass1)\n",
    "        p0=sum(x_test[i]*p0Vect)+np.log(1.0-pClass1)\n",
    "        \n",
    "        if p1>p0:\n",
    "            a=1\n",
    "        else:\n",
    "            a=0\n",
    "            \n",
    "        predict.append(a) \n",
    "    \n",
    "        \n",
    "        \n",
    "    return predict"
   ]
  },
  {
   "cell_type": "code",
   "execution_count": 457,
   "metadata": {},
   "outputs": [],
   "source": [
    "predict=classify(x_test,x_train,Y_train)"
   ]
  },
  {
   "cell_type": "code",
   "execution_count": 458,
   "metadata": {
    "scrolled": true
   },
   "outputs": [
    {
     "data": {
      "text/plain": [
       "0.8609865470852018"
      ]
     },
     "execution_count": 458,
     "metadata": {},
     "output_type": "execute_result"
    }
   ],
   "source": [
    "accuracy_score(Y_test,predict)"
   ]
  },
  {
   "cell_type": "code",
   "execution_count": 462,
   "metadata": {},
   "outputs": [
    {
     "data": {
      "text/plain": [
       "0.5"
      ]
     },
     "execution_count": 462,
     "metadata": {},
     "output_type": "execute_result"
    }
   ],
   "source": [
    "roc_auc_score(Y_test,predict)"
   ]
  },
  {
   "cell_type": "code",
   "execution_count": 463,
   "metadata": {},
   "outputs": [
    {
     "name": "stdout",
     "output_type": "stream",
     "text": [
      "0.9865470852017937 0.9786626344086021\n",
      "0.967741935483871 0.9375 0.9523809523809523\n"
     ]
    }
   ],
   "source": [
    "#sklearn\n",
    "\n",
    "print(accuracy_score(y_test,y_pred_1),roc_auc_score(y_test,y_pred_1))\n"
   ]
  },
  {
   "cell_type": "code",
   "execution_count": 465,
   "metadata": {
    "scrolled": true
   },
   "outputs": [
    {
     "name": "stdout",
     "output_type": "stream",
     "text": [
      "0.8609865470852018 0.5\n"
     ]
    }
   ],
   "source": [
    "#by hands\n",
    "\n",
    "print(accuracy_score(y_test,predict),roc_auc_score(y_test,predict))\n"
   ]
  },
  {
   "cell_type": "code",
   "execution_count": null,
   "metadata": {},
   "outputs": [],
   "source": []
  },
  {
   "cell_type": "code",
   "execution_count": null,
   "metadata": {},
   "outputs": [],
   "source": []
  }
 ],
 "metadata": {
  "kernelspec": {
   "display_name": "Python 3",
   "language": "python",
   "name": "python3"
  },
  "language_info": {
   "codemirror_mode": {
    "name": "ipython",
    "version": 3
   },
   "file_extension": ".py",
   "mimetype": "text/x-python",
   "name": "python",
   "nbconvert_exporter": "python",
   "pygments_lexer": "ipython3",
   "version": "3.7.5"
  }
 },
 "nbformat": 4,
 "nbformat_minor": 2
}
